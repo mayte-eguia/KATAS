{
 "cells": [
  {
   "cell_type": "markdown",
   "metadata": {},
   "source": [
    "## Kata 03: Usar lógica booleana"
   ]
  },
  {
   "cell_type": "markdown",
   "metadata": {},
   "source": [
    "### Ejercicio - Escribir declaraciones `if`, `else`, y `elif`"
   ]
  },
  {
   "cell_type": "markdown",
   "metadata": {},
   "source": [
    "Ejercicio 1:  Añadir el código necesario para crear una variable que guarde la velocidad del asteroide.\n",
    "Escribe una expresión de prueba para calcular si necesita una advertencia.\n",
    "Agregue las instrucciones que se ejecutarán si la expresión de prueba es true o false."
   ]
  },
  {
   "cell_type": "code",
   "execution_count": 7,
   "metadata": {},
   "outputs": [
    {
     "name": "stdout",
     "output_type": "stream",
     "text": [
      "¡ALERTA! Demasiado ràpido necesitas ir más despacio\n"
     ]
    }
   ],
   "source": [
    "velocidadMax = 25\n",
    "velocidadActual = 49\n",
    "if velocidadActual > velocidadMax:\n",
    "    print(\"¡ALERTA! Demasiado ràpido necesitas ir más despacio\")\n",
    "else:\n",
    "    print(\"Vas bien\")"
   ]
  },
  {
   "cell_type": "markdown",
   "metadata": {},
   "source": [
    "Ejercicio 2: Agrega el código para crear una variable para un asteroide que viaja a 19 km/s\n",
    "Escribe varias expresiones de prueba para determinar si puedes ver el rayo de luz desde la tierra\n",
    "Agrega las instrucciones que se ejecutarán si las expresiones de prueba son True o False"
   ]
  },
  {
   "cell_type": "code",
   "execution_count": 8,
   "metadata": {},
   "outputs": [
    {
     "name": "stdout",
     "output_type": "stream",
     "text": [
      "El asteroide no entrará\n"
     ]
    }
   ],
   "source": [
    "velocidadAsteroide = 20\n",
    "velocidadAhora = 19\n",
    "if velocidadAhora > velocidadAsteroide:\n",
    "    print(\"Su velocidad es mayor el asteroide entrará\")\n",
    "\n",
    "elif velocidadActual == velocidadAsteroide:\n",
    "        print (\"Son iguales las velocidades va entrar el asteroide\")\n",
    "else: \n",
    "    print(\"El asteroide no entrará\")\n"
   ]
  },
  {
   "cell_type": "markdown",
   "metadata": {},
   "source": [
    "### Ejercicio: Uso de operadores `and` y `or` "
   ]
  },
  {
   "cell_type": "markdown",
   "metadata": {},
   "source": [
    "Ejercicio 3: Agrega el código para crear nuevas variables para la velocidad y el tamaño del asteroide\n",
    "Para probar el código, prueba con varias velocidades y tamaños\n",
    "Escribe varias expresiones de prueba o combinaciones de expresiones de prueba para determinar qué mensaje se debe enviar a Tierra."
   ]
  },
  {
   "cell_type": "code",
   "execution_count": 13,
   "metadata": {},
   "outputs": [
    {
     "name": "stdout",
     "output_type": "stream",
     "text": [
      "Se produjo una luz\n"
     ]
    }
   ],
   "source": [
    "asteroide = int(input (\"¿A qué velocidad viene?\"))\n",
    "medidaAsteroide = int(input (\"¿Cuánto pesa?\"))\n",
    "\n",
    "if medidaAsteroide>25 or asteroide >25:\n",
    "    print (\"Alerta, puede causar mucho daño\")\n",
    "elif asteroide >= 20:\n",
    "    print(\"Se produjo una luz\")\n",
    "else:\n",
    "    print(\"Todo controlado\")"
   ]
  }
 ],
 "metadata": {
  "interpreter": {
   "hash": "aee8b7b246df8f9039afb4144a1f6fd8d2ca17a180786b69acc140d282b71a49"
  },
  "kernelspec": {
   "display_name": "Python 3.10.2 64-bit",
   "language": "python",
   "name": "python3"
  },
  "language_info": {
   "codemirror_mode": {
    "name": "ipython",
    "version": 3
   },
   "file_extension": ".py",
   "mimetype": "text/x-python",
   "name": "python",
   "nbconvert_exporter": "python",
   "pygments_lexer": "ipython3",
   "version": "3.10.2"
  },
  "orig_nbformat": 4
 },
 "nbformat": 4,
 "nbformat_minor": 2
}
