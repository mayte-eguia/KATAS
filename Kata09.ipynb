{
 "cells": [
  {
   "cell_type": "markdown",
   "metadata": {},
   "source": [
    "# Funciones\n",
    "### Ejercicio 1:  Trabajar con argumentos en funciones "
   ]
  },
  {
   "cell_type": "markdown",
   "metadata": {},
   "source": [
    "Tres lecturas de combustible y que muestre el promedio"
   ]
  },
  {
   "cell_type": "code",
   "execution_count": 2,
   "metadata": {},
   "outputs": [],
   "source": [
    "def combustible(combustible1, combustible2, combustible3):\n",
    "    total = combustible1 + combustible2 + combustible3\n",
    "    promedio = total/3\n",
    "    return promedio"
   ]
  },
  {
   "cell_type": "code",
   "execution_count": 3,
   "metadata": {},
   "outputs": [
    {
     "data": {
      "text/plain": [
       "20.333333333333332"
      ]
     },
     "execution_count": 3,
     "metadata": {},
     "output_type": "execute_result"
    }
   ],
   "source": [
    "combustible(24, 23,14)"
   ]
  },
  {
   "cell_type": "markdown",
   "metadata": {},
   "source": [
    "Segundo caso:"
   ]
  },
  {
   "cell_type": "code",
   "execution_count": 19,
   "metadata": {},
   "outputs": [],
   "source": [
    "def combustible(combustible1, combustible2, combustible3):\n",
    "    if combustible1 >= 100:\n",
    "        print (\"El tanque 1 está lleno\")\n",
    "    else:\n",
    "        print(\"Al tanque 1 le falta \", 100 - combustible1)\n",
    "    if combustible2 >= 100:\n",
    "        print (\"El tanque 2 está lleno\")\n",
    "    else:\n",
    "        print(\"Al tanque 2 le falta \", 100 - combustible2)\n",
    "    if combustible3 >= 100:\n",
    "        print (\"El tanque 3 está lleno\")\n",
    "    else:\n",
    "        print(\"Al tanque 3 le falta \", 100 - combustible3)\n",
    "   "
   ]
  },
  {
   "cell_type": "code",
   "execution_count": 20,
   "metadata": {},
   "outputs": [
    {
     "name": "stdout",
     "output_type": "stream",
     "text": [
      "Al tanque 1 le falta  88\n",
      "Al tanque 2 le falta  66\n",
      "Al tanque 3 le falta  44\n"
     ]
    }
   ],
   "source": [
    "combustible(12, 34, 56)"
   ]
  },
  {
   "cell_type": "markdown",
   "metadata": {},
   "source": [
    "Tercer caso:"
   ]
  },
  {
   "cell_type": "code",
   "execution_count": 28,
   "metadata": {},
   "outputs": [],
   "source": [
    "# Función promedio \n",
    "def average(values):\n",
    "    total = sum(values)\n",
    "    number_of_items = len(values)\n",
    "    return total / number_of_items"
   ]
  },
  {
   "cell_type": "code",
   "execution_count": 30,
   "metadata": {},
   "outputs": [
    {
     "data": {
      "text/plain": [
       "22.666666666666668"
      ]
     },
     "execution_count": 30,
     "metadata": {},
     "output_type": "execute_result"
    }
   ],
   "source": [
    "average([12,24,32])"
   ]
  },
  {
   "cell_type": "markdown",
   "metadata": {},
   "source": [
    "Cuarto caso:"
   ]
  },
  {
   "cell_type": "code",
   "execution_count": 31,
   "metadata": {},
   "outputs": [],
   "source": [
    "def combustible(combustible1, combustible2, combustible3):\n",
    "    if combustible1 >= 100:\n",
    "        print (\"El tanque 1 está lleno\")\n",
    "    else:\n",
    "        print(\"Al tanque 1 le falta \", 100 - combustible1)\n",
    "    if combustible2 >= 100:\n",
    "        print (\"El tanque 2 está lleno\")\n",
    "    else:\n",
    "        print(\"Al tanque 2 le falta \", 100 - combustible2)\n",
    "    if combustible3 >= 100:\n",
    "        print (\"El tanque 3 está lleno\")\n",
    "    else:\n",
    "        print(\"Al tanque 3 le falta \", 100 - combustible3)\n",
    "    average = (combustible1 + combustible2 + combustible3)/3\n",
    "    return \"El promedio de los tanque es\", average"
   ]
  },
  {
   "cell_type": "code",
   "execution_count": 32,
   "metadata": {},
   "outputs": [
    {
     "name": "stdout",
     "output_type": "stream",
     "text": [
      "Al tanque 1 le falta  88\n",
      "Al tanque 2 le falta  66\n",
      "Al tanque 3 le falta  44\n"
     ]
    },
    {
     "data": {
      "text/plain": [
       "('El promedio de los tanque es', 34.0)"
      ]
     },
     "execution_count": 32,
     "metadata": {},
     "output_type": "execute_result"
    }
   ],
   "source": [
    "combustible(12, 34, 56)"
   ]
  },
  {
   "cell_type": "markdown",
   "metadata": {},
   "source": [
    "### Ejercicio 2: Trabajo con argumentos de palabra clave"
   ]
  },
  {
   "cell_type": "markdown",
   "metadata": {},
   "source": [
    "Informe:\n"
   ]
  },
  {
   "cell_type": "code",
   "execution_count": 58,
   "metadata": {},
   "outputs": [],
   "source": [
    "def cohete(hora, tiempo, destino, tanque_e, tanque_i):\n",
    "    return f\"\"\"La hora es {hora}\n",
    "    El tiempo de vuelo es: {tiempo}hr\n",
    "    El destino es {destino}mn \n",
    "    El tanque externo {tanque_e}\n",
    "    El tanque interno {tanque_i}\"\"\""
   ]
  },
  {
   "cell_type": "code",
   "execution_count": 59,
   "metadata": {},
   "outputs": [
    {
     "name": "stdout",
     "output_type": "stream",
     "text": [
      "La hora es 12:24\n",
      "    El tiempo de vuelo es: 50hr\n",
      "    El destino es Moonmn \n",
      "    El tanque externo Listo\n",
      "    El tanque interno Falta\n"
     ]
    }
   ],
   "source": [
    "print(cohete('12:24', 50, 'Moon', 'Listo', 'Falta'))"
   ]
  },
  {
   "cell_type": "markdown",
   "metadata": {},
   "source": [
    "Con más argumentos"
   ]
  },
  {
   "cell_type": "code",
   "execution_count": 60,
   "metadata": {},
   "outputs": [
    {
     "name": "stdout",
     "output_type": "stream",
     "text": [
      "\n",
      "    Mission to Moon\n",
      "    Total travel time: 76 minutes\n",
      "    Total fuel left: 500000\n",
      "    \n"
     ]
    }
   ],
   "source": [
    "def cohete(destination, *minutes, **fuel_reservoirs):\n",
    "    return f\"\"\"\n",
    "    Mission to {destination}\n",
    "    Total travel time: {sum(minutes)} minutes\n",
    "    Total fuel left: {sum(fuel_reservoirs.values())}\n",
    "    \"\"\"\n",
    "\n",
    "print(cohete(\"Moon\", 10, 15, 51, main=300000, external=200000))"
   ]
  },
  {
   "cell_type": "markdown",
   "metadata": {},
   "source": [
    "Si se acaba el combustible, pon una alerta:"
   ]
  },
  {
   "cell_type": "code",
   "execution_count": 61,
   "metadata": {},
   "outputs": [
    {
     "name": "stdout",
     "output_type": "stream",
     "text": [
      "\n",
      "    Mission to Moon\n",
      "    Total travel time: 74 minutes\n",
      "    Total fuel left: 500000\n",
      "    main tank --> 300000 gallons left\n",
      "external tank --> 200000 gallons left\n",
      "\n"
     ]
    }
   ],
   "source": [
    "def mission_report(destination, *minutes, **fuel_reservoirs):\n",
    "    main_report = f\"\"\"\n",
    "    Mission to {destination}\n",
    "    Total travel time: {sum(minutes)} minutes\n",
    "    Total fuel left: {sum(fuel_reservoirs.values())}\n",
    "    \"\"\"\n",
    "    for tank_name, gallons in fuel_reservoirs.items():\n",
    "        main_report += f\"{tank_name} tank --> {gallons} gallons left\\n\"\n",
    "    return main_report\n",
    "\n",
    "print(mission_report(\"Moon\", 8, 11, 55, main=300000, external=200000))"
   ]
  }
 ],
 "metadata": {
  "interpreter": {
   "hash": "aee8b7b246df8f9039afb4144a1f6fd8d2ca17a180786b69acc140d282b71a49"
  },
  "kernelspec": {
   "display_name": "Python 3.10.2 64-bit",
   "language": "python",
   "name": "python3"
  },
  "language_info": {
   "codemirror_mode": {
    "name": "ipython",
    "version": 3
   },
   "file_extension": ".py",
   "mimetype": "text/x-python",
   "name": "python",
   "nbconvert_exporter": "python",
   "pygments_lexer": "ipython3",
   "version": "3.10.2"
  },
  "orig_nbformat": 4
 },
 "nbformat": 4,
 "nbformat_minor": 2
}
